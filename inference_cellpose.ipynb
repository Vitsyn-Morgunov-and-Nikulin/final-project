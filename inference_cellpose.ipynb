{
 "cells": [
  {
   "cell_type": "code",
   "execution_count": null,
   "metadata": {
    "collapsed": true
   },
   "outputs": [],
   "source": [
    "import re\n",
    "import shutil\n",
    "from pathlib import Path\n",
    "\n",
    "import matplotlib.pyplot as plt\n",
    "import numpy as np\n",
    "import pandas as pd\n",
    "from cellpose.models import CellposeModel\n",
    "from cellpose import io\n",
    "import cv2\n",
    "from src.cellpose.evaluate import rles_to_mask"
   ]
  },
  {
   "cell_type": "code",
   "execution_count": null,
   "outputs": [],
   "source": [
    "cellpose_model_path = Path(\"weights/cellpose_weights.ckpt\")\n",
    "test_image_paths = list(Path(\"data/hidden_test/images\").glob(\"**/*\"))\n",
    "test_df = pd.read_csv(\"data/hidden_test/test.csv\")"
   ],
   "metadata": {
    "collapsed": false
   }
  },
  {
   "cell_type": "code",
   "execution_count": null,
   "outputs": [],
   "source": [
    "# here choose any image path\n",
    "image_path = test_image_paths[5]\n",
    "print(\"image_path\", image_path)\n",
    "\n",
    "flow_image = io.imread(str(image_path))\n",
    "\n",
    "image_rgb = cv2.imread(str(image_path))\n",
    "image_rgb = cv2.cvtColor(image_rgb, cv2.COLOR_RGB2BGR)"
   ],
   "metadata": {
    "collapsed": false
   }
  },
  {
   "cell_type": "code",
   "execution_count": null,
   "outputs": [],
   "source": [
    "anno_rle = test_df[test_df.id == image_path.stem].annotation\n",
    "anno_rle = rles_to_mask(anno_rle, [520, 704])\n",
    "annotations = []\n",
    "\n",
    "for ii in np.unique(anno_rle):\n",
    "    if ii == 0:\n",
    "        continue\n",
    "    annotations.append(anno_rle == ii)"
   ],
   "metadata": {
    "collapsed": false
   }
  },
  {
   "cell_type": "code",
   "execution_count": null,
   "outputs": [],
   "source": [
    "model = CellposeModel(\n",
    "    pretrained_model=str(cellpose_model_path),\n",
    "    gpu=True\n",
    ")\n",
    "print(\"Model loaded!\")\n",
    "\n",
    "preds, flows, _ = model.eval(flow_image, diameter=19, channels=[0, 0], augment=True, resample=True)\n",
    "\n",
    "segmentation_masks = []\n",
    "for i in range(1, preds.max() + 1):\n",
    "    mask = preds == i\n",
    "    segmentation_masks.append(mask)\n",
    "\n",
    "\n",
    "segmentation_masks = np.array(segmentation_masks)\n",
    "print(segmentation_masks.shape)\n"
   ],
   "metadata": {
    "collapsed": false
   }
  },
  {
   "cell_type": "code",
   "execution_count": null,
   "outputs": [],
   "source": [
    "from src.cellpose.generate_images_for_report import draw_beautiful_image\n",
    "\n",
    "prediction, target = draw_beautiful_image(image_rgb, segmentation_masks, annotations)\n",
    "\n",
    "print(\"predictions vs target masks\")\n",
    "f, ax = plt.subplots(ncols=2, figsize=(20, 20))\n",
    "\n",
    "ax[0].imshow(prediction)\n",
    "ax[1].imshow(target)\n",
    "\n",
    "plt.show()"
   ],
   "metadata": {
    "collapsed": false
   }
  },
  {
   "cell_type": "code",
   "execution_count": null,
   "outputs": [],
   "source": [],
   "metadata": {
    "collapsed": false
   }
  },
  {
   "cell_type": "markdown",
   "source": [
    "![image](figures/img.png)\n"
   ],
   "metadata": {
    "collapsed": false
   }
  },
  {
   "cell_type": "code",
   "execution_count": null,
   "outputs": [],
   "source": [],
   "metadata": {
    "collapsed": false
   }
  }
 ],
 "metadata": {
  "kernelspec": {
   "display_name": "Python 3",
   "language": "python",
   "name": "python3"
  },
  "language_info": {
   "codemirror_mode": {
    "name": "ipython",
    "version": 2
   },
   "file_extension": ".py",
   "mimetype": "text/x-python",
   "name": "python",
   "nbconvert_exporter": "python",
   "pygments_lexer": "ipython2",
   "version": "2.7.6"
  }
 },
 "nbformat": 4,
 "nbformat_minor": 0
}
